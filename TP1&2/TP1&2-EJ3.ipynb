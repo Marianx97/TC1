{
 "cells": [
  {
   "cell_type": "markdown",
   "metadata": {},
   "source": [
    "# Ejercicio 3\n",
    "\n",
    "![consigna](img/tp1&2-ej3-consigna.JPG)"
   ]
  },
  {
   "cell_type": "markdown",
   "metadata": {},
   "source": [
    "## Resolución\n",
    "\n",
    "$\\displaystyle v_{(t)} = 1V . e^{-\\frac{t}{seg}} . U_{(t)}$\n",
    "\n",
    "Donde $U_{(t)}$ es la función escalón.\n",
    "\n",
    "$\\displaystyle {i_c}_{(t)} = C . \\frac{d(v_{(t)})}{dt} = -C . 1V . e^{-\\frac{t}{seg}}$"
   ]
  }
 ],
 "metadata": {
  "language_info": {
   "name": "python"
  }
 },
 "nbformat": 4,
 "nbformat_minor": 2
}
