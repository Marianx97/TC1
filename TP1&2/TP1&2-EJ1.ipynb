{
 "cells": [
  {
   "cell_type": "markdown",
   "metadata": {},
   "source": [
    "# Ejercicio 1\n",
    "\n",
    "![consigna](img/tp1&2-ej1-consigna.JPG)\n"
   ]
  },
  {
   "cell_type": "markdown",
   "metadata": {},
   "source": [
    "## Resolución\n",
    "\n",
    "Reordenando el circuito:\n",
    "\n",
    "![circuito](img/tp1&2-ej1-circuito.JPG)\n",
    "\n",
    "Resolviendo los paralelos de R2 con R3 y R5 con R6.\n",
    "\n",
    "$R23 = \\frac{R2.R3}{R2+R3} = 2\\Omega$\n",
    "\n",
    "$R56 = \\frac{R5.R6}{R5+R6} = 4,8\\Omega$\n",
    "\n",
    "![circuito_2](img/tp1&2-ej1-circuito_2.JPG)\n",
    "\n",
    "Resolviendo las resistencia en serie R4 con R56:\n",
    "\n",
    "$R456 = R4 + R56 = 9,8\\Omega$\n",
    "\n",
    "![circuito_3](img/tp1&2-ej1-circuito_3.JPG)\n",
    "\n",
    "Resolviendo el paralelo de R23 con R456:\n",
    "\n",
    "$Rx = \\frac{R23.R456}{R23+R456} = 1,66\\Omega$\n",
    "\n",
    "![circuito_4](img/tp1&2-ej1-circuito_4.JPG)\n",
    "\n",
    "La resistencia total es la suma de R1 con Rx:\n",
    "\n",
    "$RT = R1 + Rx = 3,66\\Omega$\n",
    "\n",
    "![circuito_5](img/tp1&2-ej1-circuito_5.JPG)\n",
    "\n",
    "Finalmente la corriente I se calcula como:\n",
    "\n",
    "$I = \\frac{V}{Rt} = \\frac{50V}{3,66\\Omega} = 13,66A$"
   ]
  }
 ],
 "metadata": {
  "language_info": {
   "name": "python"
  }
 },
 "nbformat": 4,
 "nbformat_minor": 2
}
