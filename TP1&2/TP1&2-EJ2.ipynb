{
 "cells": [
  {
   "cell_type": "markdown",
   "metadata": {},
   "source": [
    "# Ejercicio 2\n",
    "\n",
    "![consinga](img/tp1&2-ej2-consigna.JPG)\n"
   ]
  },
  {
   "cell_type": "markdown",
   "metadata": {},
   "source": [
    "## Resolución\n",
    "\n",
    "$\n",
    "i_{(t)} = \\begin{cases}\n",
    " 0<t<1: t; \\\\\n",
    " 1<t<2: 1; \\\\\n",
    " 2<t<3: -2.t+5; \\\\\n",
    " 3<t<4: -1; \\\\\n",
    " 4<t<5: t-5; \\\\\n",
    " \\end{cases}\n",
    "$\n",
    "\n",
    "###  a)\n",
    "\n",
    "${V_R}_{(t)} = i_{(t)} . R$\n",
    "\n",
    "Como $R=1\\Omega$ el gráfico sería igual al de $i_{(t)}$\n",
    "\n",
    "${P_R}_{(t)} = {V_R}_{(t)} . i_{(t)}$\n",
    "\n",
    "$\n",
    "{P_R}_{(t)} = \\begin{cases}\n",
    " 0<t<1: t^2; \\\\\n",
    " 1<t<2: 1; \\\\\n",
    " 2<t<3: (-2.t+5)^2; \\\\\n",
    " 3<t<4: 1; \\\\\n",
    " 4<t<5: (t-5)^2; \\\\\n",
    " \\end{cases}\n",
    "$\n",
    "\n",
    "![grafico_1](img/tp1&2-ej2-grafico-1.JPG)\n",
    "\n",
    "### b)\n",
    "\n",
    "${V_L}_{(t)} = L . \\frac{d(i_{(t)})}{dt}$\n",
    "\n",
    "$\n",
    "{V_L}_{(t)} = \\begin{cases}\n",
    " 0<t<1: 1; \\\\\n",
    " 1<t<2: 0; \\\\\n",
    " 2<t<3: -2; \\\\\n",
    " 3<t<4: 0; \\\\\n",
    " 4<t<5: 1; \\\\\n",
    " \\end{cases}\n",
    "$\n",
    "\n",
    "${P_L}_{(t)} = {V_L}_{(t)} . i_{(t)}$\n",
    "\n",
    "$\n",
    "{P_L}_{(t)} = \\begin{cases}\n",
    " 0<t<1: t; \\\\\n",
    " 1<t<2: 0; \\\\\n",
    " 2<t<3: 4.t-10; \\\\\n",
    " 3<t<4: 0; \\\\\n",
    " 4<t<5: t-5; \\\\\n",
    " \\end{cases}\n",
    "$\n",
    "\n",
    "![grafico_1](img/tp1&2-ej2-grafico-2.JPG)\n"
   ]
  }
 ],
 "metadata": {
  "language_info": {
   "name": "python"
  }
 },
 "nbformat": 4,
 "nbformat_minor": 2
}
